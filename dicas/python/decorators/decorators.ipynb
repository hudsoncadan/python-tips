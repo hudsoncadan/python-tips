{
 "cells": [
  {
   "cell_type": "markdown",
   "metadata": {},
   "source": [
    "# Decorators\n",
    "A decorator is a design pattern in Python that allows a user to add new functionality to an existing object without modifying its structure. _Derrick Mwiti (October 16th, 2018), available on [DataCamp](https://www.datacamp.com/community/tutorials/decorators-python)._\n",
    "## Exemplo 1\n",
    "1. Create a method that returns the sum of a fibonacci sequence, given a max number of iterations.\n",
    "2. Create a decorator that constraints the max number of iterations according to the limit parameter available in the decorator. In case of the number of iterations is a higher number than the limit, throw an exception."
   ]
  },
  {
   "cell_type": "code",
   "execution_count": 1,
   "metadata": {},
   "outputs": [],
   "source": [
    "from functools import wraps\n",
    "\n",
    "\n",
    "def fibonacci_limit(limit):\n",
    "    '''\n",
    "        Decorator for the fibonacci method that constraints the max number of iterations to the limit param.\n",
    "                \n",
    "        @param limit: the max number of iterations allowed. \n",
    "    '''\n",
    "    \n",
    "    def fibonacci_orig_func(orig_func):\n",
    "        '''\n",
    "            Inner method of the decorator for the fibonacci method limit.\n",
    "        '''\n",
    "\n",
    "        @wraps(orig_func)\n",
    "        def wrapper(*args, **kwargs):\n",
    "            '''\n",
    "                Wrapper method of the decorator for the fibonacci method limit.\n",
    "            '''\n",
    "\n",
    "            if ('number_iterations' in kwargs and kwargs['number_iterations'] > limit \n",
    "               or args[0] > limit):\n",
    "                raise Exception(f'Limit iterations is set to {limit}')\n",
    "\n",
    "            return orig_func(*args, **kwargs)\n",
    "\n",
    "        return wrapper\n",
    "    \n",
    "    return fibonacci_orig_func\n",
    "\n",
    "\n",
    "@fibonacci_limit(limit=10)\n",
    "def fibonacci(number_iterations): \n",
    "    '''\n",
    "        @param number_iterations: The number of iterations for the fibonacci sequence\n",
    "        @return The sum of finobacci sequence\n",
    "    '''\n",
    "    a = 0\n",
    "    b = 1\n",
    "    \n",
    "    if number_iterations < 0: \n",
    "        print(\"Incorrect input\") \n",
    "        \n",
    "    elif number_iterations == 0: \n",
    "        return a \n",
    "    \n",
    "    elif number_iterations == 1: \n",
    "        return b \n",
    "    \n",
    "    else: \n",
    "        for _ in range(2, number_iterations): \n",
    "            c = a + b \n",
    "            a = b \n",
    "            b = c \n",
    "        return b "
   ]
  },
  {
   "cell_type": "code",
   "execution_count": 2,
   "metadata": {},
   "outputs": [
    {
     "data": {
      "text/plain": [
       "34"
      ]
     },
     "execution_count": 2,
     "metadata": {},
     "output_type": "execute_result"
    }
   ],
   "source": [
    "fibonacci(10)"
   ]
  },
  {
   "cell_type": "code",
   "execution_count": 3,
   "metadata": {},
   "outputs": [
    {
     "ename": "Exception",
     "evalue": "Limit iterations is set to 10",
     "output_type": "error",
     "traceback": [
      "\u001b[1;31m---------------------------------------------------------------------------\u001b[0m",
      "\u001b[1;31mException\u001b[0m                                 Traceback (most recent call last)",
      "\u001b[1;32m<ipython-input-3-4ff2a5a3a08c>\u001b[0m in \u001b[0;36m<module>\u001b[1;34m\u001b[0m\n\u001b[1;32m----> 1\u001b[1;33m \u001b[0mfibonacci\u001b[0m\u001b[1;33m(\u001b[0m\u001b[0mnumber_iterations\u001b[0m\u001b[1;33m=\u001b[0m\u001b[1;36m11\u001b[0m\u001b[1;33m)\u001b[0m\u001b[1;33m\u001b[0m\u001b[1;33m\u001b[0m\u001b[0m\n\u001b[0m",
      "\u001b[1;32m<ipython-input-1-a53e1ba17f59>\u001b[0m in \u001b[0;36mwrapper\u001b[1;34m(*args, **kwargs)\u001b[0m\n\u001b[0;32m     22\u001b[0m             if ('number_iterations' in kwargs and kwargs['number_iterations'] > limit \n\u001b[0;32m     23\u001b[0m                or args[0] > limit):\n\u001b[1;32m---> 24\u001b[1;33m                 \u001b[1;32mraise\u001b[0m \u001b[0mException\u001b[0m\u001b[1;33m(\u001b[0m\u001b[1;34mf'Limit iterations is set to {limit}'\u001b[0m\u001b[1;33m)\u001b[0m\u001b[1;33m\u001b[0m\u001b[1;33m\u001b[0m\u001b[0m\n\u001b[0m\u001b[0;32m     25\u001b[0m \u001b[1;33m\u001b[0m\u001b[0m\n\u001b[0;32m     26\u001b[0m             \u001b[1;32mreturn\u001b[0m \u001b[0morig_func\u001b[0m\u001b[1;33m(\u001b[0m\u001b[1;33m*\u001b[0m\u001b[0margs\u001b[0m\u001b[1;33m,\u001b[0m \u001b[1;33m**\u001b[0m\u001b[0mkwargs\u001b[0m\u001b[1;33m)\u001b[0m\u001b[1;33m\u001b[0m\u001b[1;33m\u001b[0m\u001b[0m\n",
      "\u001b[1;31mException\u001b[0m: Limit iterations is set to 10"
     ]
    }
   ],
   "source": [
    "fibonacci(number_iterations=11)"
   ]
  },
  {
   "cell_type": "markdown",
   "metadata": {},
   "source": [
    "## Exemplo 2\n",
    "Conteúdo disponível no [youtube](https://www.youtube.com/watch?v=FsAPt_9Bf3U).\n",
    "Crédito: Corey Schafer<br>"
   ]
  },
  {
   "cell_type": "code",
   "execution_count": 4,
   "metadata": {},
   "outputs": [],
   "source": [
    "from functools import wraps\n",
    "\n",
    "\n",
    "def my_logger(orig_func):\n",
    "    '''\n",
    "        Decorator responsável por criar um arquivo de log.\n",
    "    '''\n",
    "    import logging\n",
    "    logging.basicConfig(filename='{}.log'.format(orig_func.__name__), \n",
    "                        level=logging.INFO, \n",
    "                        datefmt='%Y-%m-%d %H:%M:%S', \n",
    "                        format='%(asctime)s - %(levelname)s - %(message)s')\n",
    "\n",
    "    @wraps(orig_func)\n",
    "    def wrapper(*args, **kwargs):\n",
    "        logging.info('{} ran with args: {}, and kwargs: {}'.format(orig_func.__name__, args, kwargs))\n",
    "        return orig_func(*args, **kwargs)\n",
    "\n",
    "    return wrapper\n",
    "\n",
    "\n",
    "def my_timer(orig_func):\n",
    "    '''\n",
    "        Decorator responsável por calcular o tempo de execução de uma determinada função.\n",
    "    '''\n",
    "    import time\n",
    "\n",
    "    @wraps(orig_func)\n",
    "    def wrapper(*args, **kwargs):\n",
    "        t1 = time.time()\n",
    "        result = orig_func(*args, **kwargs)\n",
    "        t2 = time.time() - t1\n",
    "        print(f'{orig_func.__name__} ran in: {t2} sec')\n",
    "        return result\n",
    "\n",
    "    return wrapper"
   ]
  },
  {
   "cell_type": "code",
   "execution_count": 5,
   "metadata": {},
   "outputs": [
    {
     "name": "stdout",
     "output_type": "stream",
     "text": [
      "display_info ran with arguments Tom, 22\n",
      "display_info ran in: 1.0009279251098633 sec\n"
     ]
    }
   ],
   "source": [
    "import time\n",
    "\n",
    "@my_logger\n",
    "@my_timer\n",
    "def display_info(name, age):\n",
    "    '''\n",
    "        Este método exibe uma mensagem com os parâmetros name e age.\n",
    "        \n",
    "        Com os decorators, este método \"ganha\" as funcionalidades de:\n",
    "        i) Criar um arquivo de log informando que o método foi chamado;\n",
    "        ii) Exibir uma mensagem com o tempo de execução deste método.\n",
    "    '''\n",
    "    time.sleep(1)\n",
    "    print(f'display_info ran with arguments {name}, {age}')\n",
    "\n",
    "display_info('Tom', 22)"
   ]
  },
  {
   "cell_type": "code",
   "execution_count": null,
   "metadata": {},
   "outputs": [],
   "source": []
  }
 ],
 "metadata": {
  "kernelspec": {
   "display_name": "Python 3",
   "language": "python",
   "name": "python3"
  },
  "language_info": {
   "codemirror_mode": {
    "name": "ipython",
    "version": 3
   },
   "file_extension": ".py",
   "mimetype": "text/x-python",
   "name": "python",
   "nbconvert_exporter": "python",
   "pygments_lexer": "ipython3",
   "version": "3.7.3"
  }
 },
 "nbformat": 4,
 "nbformat_minor": 2
}
