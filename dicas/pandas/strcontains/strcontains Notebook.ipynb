{
 "cells": [
  {
   "cell_type": "markdown",
   "metadata": {},
   "source": [
    "# pandas.Series.str.contains()\n",
    "Verifica se um valor ou uma expressão regular está contida dentro de uma Series.\n",
    "\n",
    "Doc: [pandas.Series.str.contains()](https://pandas.pydata.org/pandas-docs/stable/reference/api/pandas.Series.str.contains.html)"
   ]
  },
  {
   "cell_type": "markdown",
   "metadata": {},
   "source": [
    "Vamos trabalhar com o seguinte banco de dados. \n",
    "\n",
    "Analise a coluna __DESCRIÇÃO__ e responda as seguintes questões:\n",
    "1. [Qual o tamanho da base de dados?](#base) __2332 registros__\n",
    "\n",
    "\n",
    "2. [Quais itens POSSUEM a palavra \"papel\" em seu conteúdo?](#possuem) __29 registros__\n",
    "3. [Quais itens NÃO possuem a palavra \"papel\" em seu conteúdo?](#naopossuem) __2303 registros__\n",
    "\n",
    "\n",
    "4. [Quais itens COMEÇAM com a palavra \"papel\" em seu conteúdo?](#comecam) __26 registros__\n",
    "5. [Quais itens NÃO começam com a palavra \"papel\" em seu conteúdo?](#naocomecam) __2306 registros__\n"
   ]
  },
  {
   "cell_type": "markdown",
   "metadata": {},
   "source": [
    "<a id=\"base\"></a>"
   ]
  },
  {
   "cell_type": "markdown",
   "metadata": {},
   "source": [
    "## 1. Base de dados"
   ]
  },
  {
   "cell_type": "code",
   "execution_count": 1,
   "metadata": {
    "scrolled": true
   },
   "outputs": [
    {
     "name": "stdout",
     "output_type": "stream",
     "text": [
      "Total de registros: 2332\n"
     ]
    },
    {
     "data": {
      "text/html": [
       "<div>\n",
       "<style scoped>\n",
       "    .dataframe tbody tr th:only-of-type {\n",
       "        vertical-align: middle;\n",
       "    }\n",
       "\n",
       "    .dataframe tbody tr th {\n",
       "        vertical-align: top;\n",
       "    }\n",
       "\n",
       "    .dataframe thead th {\n",
       "        text-align: right;\n",
       "    }\n",
       "</style>\n",
       "<table border=\"1\" class=\"dataframe\">\n",
       "  <thead>\n",
       "    <tr style=\"text-align: right;\">\n",
       "      <th></th>\n",
       "      <th>MESANO</th>\n",
       "      <th>DESCRIÇÃO</th>\n",
       "      <th>PREÇO UNIT</th>\n",
       "      <th>QUANTIDADE</th>\n",
       "    </tr>\n",
       "  </thead>\n",
       "  <tbody>\n",
       "    <tr>\n",
       "      <th>0</th>\n",
       "      <td>2018-05-01</td>\n",
       "      <td>OLEO SAE 5W30</td>\n",
       "      <td>22.90</td>\n",
       "      <td>108.0</td>\n",
       "    </tr>\n",
       "    <tr>\n",
       "      <th>1</th>\n",
       "      <td>2018-05-01</td>\n",
       "      <td>SACO PARA LIXO 100LT.</td>\n",
       "      <td>48.70</td>\n",
       "      <td>4.0</td>\n",
       "    </tr>\n",
       "    <tr>\n",
       "      <th>2</th>\n",
       "      <td>2018-05-01</td>\n",
       "      <td>COPO DESCARTAVEL AGUA</td>\n",
       "      <td>3.91</td>\n",
       "      <td>150.0</td>\n",
       "    </tr>\n",
       "    <tr>\n",
       "      <th>3</th>\n",
       "      <td>2018-05-01</td>\n",
       "      <td>DESINFETANTE 02LITROS</td>\n",
       "      <td>2.90</td>\n",
       "      <td>96.0</td>\n",
       "    </tr>\n",
       "    <tr>\n",
       "      <th>4</th>\n",
       "      <td>2018-05-01</td>\n",
       "      <td>VASSOURA DE NYLON.</td>\n",
       "      <td>5.95</td>\n",
       "      <td>6.0</td>\n",
       "    </tr>\n",
       "  </tbody>\n",
       "</table>\n",
       "</div>"
      ],
      "text/plain": [
       "      MESANO              DESCRIÇÃO  PREÇO UNIT  QUANTIDADE\n",
       "0 2018-05-01          OLEO SAE 5W30       22.90       108.0\n",
       "1 2018-05-01  SACO PARA LIXO 100LT.       48.70         4.0\n",
       "2 2018-05-01  COPO DESCARTAVEL AGUA        3.91       150.0\n",
       "3 2018-05-01  DESINFETANTE 02LITROS        2.90        96.0\n",
       "4 2018-05-01     VASSOURA DE NYLON.        5.95         6.0"
      ]
     },
     "execution_count": 1,
     "metadata": {},
     "output_type": "execute_result"
    }
   ],
   "source": [
    "import pandas as pd\n",
    "import re\n",
    "\n",
    "df = pd.read_csv('data.csv', parse_dates=['MESANO'], decimal=',', thousands='.')\n",
    "print(f'Total de registros: {len(df)}')\n",
    "df.head()"
   ]
  },
  {
   "cell_type": "markdown",
   "metadata": {},
   "source": [
    "<a id=\"possuem\"></a>"
   ]
  },
  {
   "cell_type": "markdown",
   "metadata": {},
   "source": [
    "## 2. Quais itens POSSUEM a palavra \"papel\" em seu conteúdo?\n",
    "O parâmetro __flags=re.IGNORECASE__ é utilizado para ignorar diferenças entre letras maiúsculas e minúsculas."
   ]
  },
  {
   "cell_type": "code",
   "execution_count": 2,
   "metadata": {
    "scrolled": false
   },
   "outputs": [
    {
     "data": {
      "text/html": [
       "<div>\n",
       "<style scoped>\n",
       "    .dataframe tbody tr th:only-of-type {\n",
       "        vertical-align: middle;\n",
       "    }\n",
       "\n",
       "    .dataframe tbody tr th {\n",
       "        vertical-align: top;\n",
       "    }\n",
       "\n",
       "    .dataframe thead th {\n",
       "        text-align: right;\n",
       "    }\n",
       "</style>\n",
       "<table border=\"1\" class=\"dataframe\">\n",
       "  <thead>\n",
       "    <tr style=\"text-align: right;\">\n",
       "      <th></th>\n",
       "      <th>MESANO</th>\n",
       "      <th>DESCRIÇÃO</th>\n",
       "      <th>PREÇO UNIT</th>\n",
       "      <th>QUANTIDADE</th>\n",
       "    </tr>\n",
       "  </thead>\n",
       "  <tbody>\n",
       "    <tr>\n",
       "      <th>5</th>\n",
       "      <td>2018-05-01</td>\n",
       "      <td>PAPEL TOALHA INTERFOLHA</td>\n",
       "      <td>39.70</td>\n",
       "      <td>10.0</td>\n",
       "    </tr>\n",
       "    <tr>\n",
       "      <th>13</th>\n",
       "      <td>2018-05-01</td>\n",
       "      <td>PAPEL HIGIENICO FOLHA SIMPLES</td>\n",
       "      <td>45.75</td>\n",
       "      <td>10.0</td>\n",
       "    </tr>\n",
       "    <tr>\n",
       "      <th>19</th>\n",
       "      <td>2018-05-01</td>\n",
       "      <td>PAPEL TOALHA MULTIUSO</td>\n",
       "      <td>2.96</td>\n",
       "      <td>24.0</td>\n",
       "    </tr>\n",
       "    <tr>\n",
       "      <th>281</th>\n",
       "      <td>2018-07-01</td>\n",
       "      <td>PAPEL TOALHA INTERFOLHA</td>\n",
       "      <td>39.70</td>\n",
       "      <td>6.0</td>\n",
       "    </tr>\n",
       "    <tr>\n",
       "      <th>284</th>\n",
       "      <td>2018-07-01</td>\n",
       "      <td>PAPEL TOALHA MULTIUSO</td>\n",
       "      <td>2.96</td>\n",
       "      <td>60.0</td>\n",
       "    </tr>\n",
       "  </tbody>\n",
       "</table>\n",
       "</div>"
      ],
      "text/plain": [
       "        MESANO                      DESCRIÇÃO  PREÇO UNIT  QUANTIDADE\n",
       "5   2018-05-01        PAPEL TOALHA INTERFOLHA       39.70        10.0\n",
       "13  2018-05-01  PAPEL HIGIENICO FOLHA SIMPLES       45.75        10.0\n",
       "19  2018-05-01          PAPEL TOALHA MULTIUSO        2.96        24.0\n",
       "281 2018-07-01        PAPEL TOALHA INTERFOLHA       39.70         6.0\n",
       "284 2018-07-01          PAPEL TOALHA MULTIUSO        2.96        60.0"
      ]
     },
     "execution_count": 2,
     "metadata": {},
     "output_type": "execute_result"
    }
   ],
   "source": [
    "df_papel = df[df['DESCRIÇÃO'].str.contains('papel', flags=re.IGNORECASE)]\n",
    "df_papel.head()"
   ]
  },
  {
   "cell_type": "markdown",
   "metadata": {},
   "source": [
    "### 2.2. Quantos itens POSSUEM a palavra papel?"
   ]
  },
  {
   "cell_type": "code",
   "execution_count": 3,
   "metadata": {},
   "outputs": [
    {
     "data": {
      "text/plain": [
       "29"
      ]
     },
     "execution_count": 3,
     "metadata": {},
     "output_type": "execute_result"
    }
   ],
   "source": [
    "len(df_papel)"
   ]
  },
  {
   "cell_type": "markdown",
   "metadata": {},
   "source": [
    "<a id=\"naopossuem\"></a>"
   ]
  },
  {
   "cell_type": "markdown",
   "metadata": {},
   "source": [
    "## 3. Quais itens NÃO possuem a palavra \"papel\" em seu conteúdo?"
   ]
  },
  {
   "cell_type": "code",
   "execution_count": 4,
   "metadata": {
    "scrolled": true
   },
   "outputs": [
    {
     "data": {
      "text/html": [
       "<div>\n",
       "<style scoped>\n",
       "    .dataframe tbody tr th:only-of-type {\n",
       "        vertical-align: middle;\n",
       "    }\n",
       "\n",
       "    .dataframe tbody tr th {\n",
       "        vertical-align: top;\n",
       "    }\n",
       "\n",
       "    .dataframe thead th {\n",
       "        text-align: right;\n",
       "    }\n",
       "</style>\n",
       "<table border=\"1\" class=\"dataframe\">\n",
       "  <thead>\n",
       "    <tr style=\"text-align: right;\">\n",
       "      <th></th>\n",
       "      <th>MESANO</th>\n",
       "      <th>DESCRIÇÃO</th>\n",
       "      <th>PREÇO UNIT</th>\n",
       "      <th>QUANTIDADE</th>\n",
       "    </tr>\n",
       "  </thead>\n",
       "  <tbody>\n",
       "    <tr>\n",
       "      <th>0</th>\n",
       "      <td>2018-05-01</td>\n",
       "      <td>OLEO SAE 5W30</td>\n",
       "      <td>22.90</td>\n",
       "      <td>108.0</td>\n",
       "    </tr>\n",
       "    <tr>\n",
       "      <th>1</th>\n",
       "      <td>2018-05-01</td>\n",
       "      <td>SACO PARA LIXO 100LT.</td>\n",
       "      <td>48.70</td>\n",
       "      <td>4.0</td>\n",
       "    </tr>\n",
       "    <tr>\n",
       "      <th>2</th>\n",
       "      <td>2018-05-01</td>\n",
       "      <td>COPO DESCARTAVEL AGUA</td>\n",
       "      <td>3.91</td>\n",
       "      <td>150.0</td>\n",
       "    </tr>\n",
       "    <tr>\n",
       "      <th>3</th>\n",
       "      <td>2018-05-01</td>\n",
       "      <td>DESINFETANTE 02LITROS</td>\n",
       "      <td>2.90</td>\n",
       "      <td>96.0</td>\n",
       "    </tr>\n",
       "    <tr>\n",
       "      <th>4</th>\n",
       "      <td>2018-05-01</td>\n",
       "      <td>VASSOURA DE NYLON.</td>\n",
       "      <td>5.95</td>\n",
       "      <td>6.0</td>\n",
       "    </tr>\n",
       "  </tbody>\n",
       "</table>\n",
       "</div>"
      ],
      "text/plain": [
       "      MESANO              DESCRIÇÃO  PREÇO UNIT  QUANTIDADE\n",
       "0 2018-05-01          OLEO SAE 5W30       22.90       108.0\n",
       "1 2018-05-01  SACO PARA LIXO 100LT.       48.70         4.0\n",
       "2 2018-05-01  COPO DESCARTAVEL AGUA        3.91       150.0\n",
       "3 2018-05-01  DESINFETANTE 02LITROS        2.90        96.0\n",
       "4 2018-05-01     VASSOURA DE NYLON.        5.95         6.0"
      ]
     },
     "execution_count": 4,
     "metadata": {},
     "output_type": "execute_result"
    }
   ],
   "source": [
    "df_papel = df[df['DESCRIÇÃO'].str.contains('papel', flags=re.IGNORECASE) == False]\n",
    "df_papel.head()"
   ]
  },
  {
   "cell_type": "markdown",
   "metadata": {},
   "source": [
    "### 3.1. Quantos itens NÃO possuem a palavra papel?"
   ]
  },
  {
   "cell_type": "code",
   "execution_count": 5,
   "metadata": {},
   "outputs": [
    {
     "data": {
      "text/plain": [
       "2303"
      ]
     },
     "execution_count": 5,
     "metadata": {},
     "output_type": "execute_result"
    }
   ],
   "source": [
    "len(df_papel)"
   ]
  },
  {
   "cell_type": "markdown",
   "metadata": {},
   "source": [
    "<a id=\"comecam\"></a>"
   ]
  },
  {
   "cell_type": "markdown",
   "metadata": {},
   "source": [
    "## 4. Quais itens COMEÇAM com a palavra \"papel\"?\n",
    "Neste caso, adicionamos o parâmetro __regex=True__ para indicar que o padrão é uma expressão regular."
   ]
  },
  {
   "cell_type": "code",
   "execution_count": 6,
   "metadata": {},
   "outputs": [
    {
     "data": {
      "text/html": [
       "<div>\n",
       "<style scoped>\n",
       "    .dataframe tbody tr th:only-of-type {\n",
       "        vertical-align: middle;\n",
       "    }\n",
       "\n",
       "    .dataframe tbody tr th {\n",
       "        vertical-align: top;\n",
       "    }\n",
       "\n",
       "    .dataframe thead th {\n",
       "        text-align: right;\n",
       "    }\n",
       "</style>\n",
       "<table border=\"1\" class=\"dataframe\">\n",
       "  <thead>\n",
       "    <tr style=\"text-align: right;\">\n",
       "      <th></th>\n",
       "      <th>MESANO</th>\n",
       "      <th>DESCRIÇÃO</th>\n",
       "      <th>PREÇO UNIT</th>\n",
       "      <th>QUANTIDADE</th>\n",
       "    </tr>\n",
       "  </thead>\n",
       "  <tbody>\n",
       "    <tr>\n",
       "      <th>5</th>\n",
       "      <td>2018-05-01</td>\n",
       "      <td>PAPEL TOALHA INTERFOLHA</td>\n",
       "      <td>39.70</td>\n",
       "      <td>10.0</td>\n",
       "    </tr>\n",
       "    <tr>\n",
       "      <th>13</th>\n",
       "      <td>2018-05-01</td>\n",
       "      <td>PAPEL HIGIENICO FOLHA SIMPLES</td>\n",
       "      <td>45.75</td>\n",
       "      <td>10.0</td>\n",
       "    </tr>\n",
       "    <tr>\n",
       "      <th>19</th>\n",
       "      <td>2018-05-01</td>\n",
       "      <td>PAPEL TOALHA MULTIUSO</td>\n",
       "      <td>2.96</td>\n",
       "      <td>24.0</td>\n",
       "    </tr>\n",
       "    <tr>\n",
       "      <th>281</th>\n",
       "      <td>2018-07-01</td>\n",
       "      <td>PAPEL TOALHA INTERFOLHA</td>\n",
       "      <td>39.70</td>\n",
       "      <td>6.0</td>\n",
       "    </tr>\n",
       "    <tr>\n",
       "      <th>284</th>\n",
       "      <td>2018-07-01</td>\n",
       "      <td>PAPEL TOALHA MULTIUSO</td>\n",
       "      <td>2.96</td>\n",
       "      <td>60.0</td>\n",
       "    </tr>\n",
       "  </tbody>\n",
       "</table>\n",
       "</div>"
      ],
      "text/plain": [
       "        MESANO                      DESCRIÇÃO  PREÇO UNIT  QUANTIDADE\n",
       "5   2018-05-01        PAPEL TOALHA INTERFOLHA       39.70        10.0\n",
       "13  2018-05-01  PAPEL HIGIENICO FOLHA SIMPLES       45.75        10.0\n",
       "19  2018-05-01          PAPEL TOALHA MULTIUSO        2.96        24.0\n",
       "281 2018-07-01        PAPEL TOALHA INTERFOLHA       39.70         6.0\n",
       "284 2018-07-01          PAPEL TOALHA MULTIUSO        2.96        60.0"
      ]
     },
     "execution_count": 6,
     "metadata": {},
     "output_type": "execute_result"
    }
   ],
   "source": [
    "df_papel = df[df['DESCRIÇÃO'].str.contains('^papel', regex=True, flags=re.IGNORECASE)]\n",
    "df_papel.head()"
   ]
  },
  {
   "cell_type": "markdown",
   "metadata": {},
   "source": [
    "### 4.1. Quantos itens COMEÇAM com a palavra \"papel\"?"
   ]
  },
  {
   "cell_type": "code",
   "execution_count": 7,
   "metadata": {},
   "outputs": [
    {
     "data": {
      "text/plain": [
       "26"
      ]
     },
     "execution_count": 7,
     "metadata": {},
     "output_type": "execute_result"
    }
   ],
   "source": [
    "len(df_papel)"
   ]
  },
  {
   "cell_type": "markdown",
   "metadata": {},
   "source": [
    "<a id=\"naocomecam\"></a>"
   ]
  },
  {
   "cell_type": "markdown",
   "metadata": {},
   "source": [
    "## 5. Quais itens NÃO começam com a palavra \"papel\"?"
   ]
  },
  {
   "cell_type": "code",
   "execution_count": 8,
   "metadata": {
    "scrolled": false
   },
   "outputs": [
    {
     "data": {
      "text/html": [
       "<div>\n",
       "<style scoped>\n",
       "    .dataframe tbody tr th:only-of-type {\n",
       "        vertical-align: middle;\n",
       "    }\n",
       "\n",
       "    .dataframe tbody tr th {\n",
       "        vertical-align: top;\n",
       "    }\n",
       "\n",
       "    .dataframe thead th {\n",
       "        text-align: right;\n",
       "    }\n",
       "</style>\n",
       "<table border=\"1\" class=\"dataframe\">\n",
       "  <thead>\n",
       "    <tr style=\"text-align: right;\">\n",
       "      <th></th>\n",
       "      <th>MESANO</th>\n",
       "      <th>DESCRIÇÃO</th>\n",
       "      <th>PREÇO UNIT</th>\n",
       "      <th>QUANTIDADE</th>\n",
       "    </tr>\n",
       "  </thead>\n",
       "  <tbody>\n",
       "    <tr>\n",
       "      <th>0</th>\n",
       "      <td>2018-05-01</td>\n",
       "      <td>OLEO SAE 5W30</td>\n",
       "      <td>22.90</td>\n",
       "      <td>108.0</td>\n",
       "    </tr>\n",
       "    <tr>\n",
       "      <th>1</th>\n",
       "      <td>2018-05-01</td>\n",
       "      <td>SACO PARA LIXO 100LT.</td>\n",
       "      <td>48.70</td>\n",
       "      <td>4.0</td>\n",
       "    </tr>\n",
       "    <tr>\n",
       "      <th>2</th>\n",
       "      <td>2018-05-01</td>\n",
       "      <td>COPO DESCARTAVEL AGUA</td>\n",
       "      <td>3.91</td>\n",
       "      <td>150.0</td>\n",
       "    </tr>\n",
       "    <tr>\n",
       "      <th>3</th>\n",
       "      <td>2018-05-01</td>\n",
       "      <td>DESINFETANTE 02LITROS</td>\n",
       "      <td>2.90</td>\n",
       "      <td>96.0</td>\n",
       "    </tr>\n",
       "    <tr>\n",
       "      <th>4</th>\n",
       "      <td>2018-05-01</td>\n",
       "      <td>VASSOURA DE NYLON.</td>\n",
       "      <td>5.95</td>\n",
       "      <td>6.0</td>\n",
       "    </tr>\n",
       "  </tbody>\n",
       "</table>\n",
       "</div>"
      ],
      "text/plain": [
       "      MESANO              DESCRIÇÃO  PREÇO UNIT  QUANTIDADE\n",
       "0 2018-05-01          OLEO SAE 5W30       22.90       108.0\n",
       "1 2018-05-01  SACO PARA LIXO 100LT.       48.70         4.0\n",
       "2 2018-05-01  COPO DESCARTAVEL AGUA        3.91       150.0\n",
       "3 2018-05-01  DESINFETANTE 02LITROS        2.90        96.0\n",
       "4 2018-05-01     VASSOURA DE NYLON.        5.95         6.0"
      ]
     },
     "execution_count": 8,
     "metadata": {},
     "output_type": "execute_result"
    }
   ],
   "source": [
    "df_papel = df[df['DESCRIÇÃO'].str.contains(r'^(?!papel)', regex=True, flags=re.IGNORECASE)]\n",
    "df_papel.head()"
   ]
  },
  {
   "cell_type": "markdown",
   "metadata": {},
   "source": [
    "### 5.1. Quantos itens NÃO começam com a palavra \"papel\"?"
   ]
  },
  {
   "cell_type": "code",
   "execution_count": 9,
   "metadata": {},
   "outputs": [
    {
     "data": {
      "text/plain": [
       "2306"
      ]
     },
     "execution_count": 9,
     "metadata": {},
     "output_type": "execute_result"
    }
   ],
   "source": [
    "len(df_papel)"
   ]
  },
  {
   "cell_type": "code",
   "execution_count": null,
   "metadata": {},
   "outputs": [],
   "source": []
  }
 ],
 "metadata": {
  "kernelspec": {
   "display_name": "Python 3",
   "language": "python",
   "name": "python3"
  },
  "language_info": {
   "codemirror_mode": {
    "name": "ipython",
    "version": 3
   },
   "file_extension": ".py",
   "mimetype": "text/x-python",
   "name": "python",
   "nbconvert_exporter": "python",
   "pygments_lexer": "ipython3",
   "version": "3.7.0"
  }
 },
 "nbformat": 4,
 "nbformat_minor": 2
}
