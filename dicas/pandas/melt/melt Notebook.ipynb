{
 "cells": [
  {
   "cell_type": "markdown",
   "metadata": {},
   "source": [
    "# pandas.melt\n",
    "\n",
    "Doc: [pandas.melt](https://pandas.pydata.org/pandas-docs/stable/reference/api/pandas.melt.html)\n",
    "\n",
    "O nome desta função representa, de maneira curiosa e divertida, o seu significado. <br>\n",
    "__Melt__, do inglês, significa __Derreter__. E é este o nosso objetivo nesse Notebook.\n",
    "\n",
    "Observe a coluna __ingredientes__ no DataFrame abaixo. <br>\n",
    "O nosso objetivo é apresentar cada ingrediente da lista em uma nova linha do DataFrame.\n",
    "\n",
    "Abaixo é apresentado um passo-a-passo para que você possa acompanhar o raciocínio apresentado neste notebook, mas você também pode pular para o final e encontrar o resultado :)\n",
    "1. [Passo 1](#passo1) .apply(pd.Series)\n",
    "2. [Passo 2](#passo2) .merge(df, left_index=True, right_index=True)\n",
    "3. [Passo 3](#passo3) .drop(columns='ingredientes')\n",
    "4. [Passo 4](#passo4) .melt(id_vars=['codigo', 'receita'], value_name='ingredientes')\n",
    "5. [Passo 5](#passo5) .drop(columns='variable')\n",
    "6. [Passo 6](#passo6) .dropna()\n",
    "7. [Passo 7](#passo7) .sort_values(by='codigo')\n",
    "\n",
    "Então vamos derreter cada ingrediente ao longo do DataFrame..."
   ]
  },
  {
   "cell_type": "code",
   "execution_count": 1,
   "metadata": {},
   "outputs": [
    {
     "data": {
      "text/html": [
       "<div>\n",
       "<style scoped>\n",
       "    .dataframe tbody tr th:only-of-type {\n",
       "        vertical-align: middle;\n",
       "    }\n",
       "\n",
       "    .dataframe tbody tr th {\n",
       "        vertical-align: top;\n",
       "    }\n",
       "\n",
       "    .dataframe thead th {\n",
       "        text-align: right;\n",
       "    }\n",
       "</style>\n",
       "<table border=\"1\" class=\"dataframe\">\n",
       "  <thead>\n",
       "    <tr style=\"text-align: right;\">\n",
       "      <th></th>\n",
       "      <th>codigo</th>\n",
       "      <th>receita</th>\n",
       "      <th>ingredientes</th>\n",
       "    </tr>\n",
       "  </thead>\n",
       "  <tbody>\n",
       "    <tr>\n",
       "      <th>0</th>\n",
       "      <td>1</td>\n",
       "      <td>Batata Rosti</td>\n",
       "      <td>[batata, orégano, lentilha]</td>\n",
       "    </tr>\n",
       "    <tr>\n",
       "      <th>1</th>\n",
       "      <td>2</td>\n",
       "      <td>Farofa proteica</td>\n",
       "      <td>[lentilha, quinoa]</td>\n",
       "    </tr>\n",
       "    <tr>\n",
       "      <th>2</th>\n",
       "      <td>3</td>\n",
       "      <td>Hambúrguer</td>\n",
       "      <td>[grão de bico, aveia, açafrão]</td>\n",
       "    </tr>\n",
       "  </tbody>\n",
       "</table>\n",
       "</div>"
      ],
      "text/plain": [
       "   codigo          receita                    ingredientes\n",
       "0       1     Batata Rosti     [batata, orégano, lentilha]\n",
       "1       2  Farofa proteica              [lentilha, quinoa]\n",
       "2       3       Hambúrguer  [grão de bico, aveia, açafrão]"
      ]
     },
     "execution_count": 1,
     "metadata": {},
     "output_type": "execute_result"
    }
   ],
   "source": [
    "import pandas as pd\n",
    "import ast\n",
    "\n",
    "df = pd.read_csv('dados_ingredientes.csv', converters={'ingredientes': ast.literal_eval})\n",
    "df"
   ]
  },
  {
   "cell_type": "markdown",
   "metadata": {},
   "source": [
    "<a id=\"passo1\"></a>"
   ]
  },
  {
   "cell_type": "markdown",
   "metadata": {},
   "source": [
    "## Passo 1 \n",
    "### .apply(pd.Series)\n",
    "Convertemos cada ingrediente em uma nova coluna.\n",
    "\n",
    "Observe que existem receitas com 2 ingredientes e outras com 3 ingredientes. <br>\n",
    "Portanto haverá linhas com o valor NaN. <br>\n",
    "Iremos remover estes valores no [Passo 6](#passo6)."
   ]
  },
  {
   "cell_type": "code",
   "execution_count": 2,
   "metadata": {
    "scrolled": true
   },
   "outputs": [
    {
     "data": {
      "text/html": [
       "<div>\n",
       "<style scoped>\n",
       "    .dataframe tbody tr th:only-of-type {\n",
       "        vertical-align: middle;\n",
       "    }\n",
       "\n",
       "    .dataframe tbody tr th {\n",
       "        vertical-align: top;\n",
       "    }\n",
       "\n",
       "    .dataframe thead th {\n",
       "        text-align: right;\n",
       "    }\n",
       "</style>\n",
       "<table border=\"1\" class=\"dataframe\">\n",
       "  <thead>\n",
       "    <tr style=\"text-align: right;\">\n",
       "      <th></th>\n",
       "      <th>0</th>\n",
       "      <th>1</th>\n",
       "      <th>2</th>\n",
       "    </tr>\n",
       "  </thead>\n",
       "  <tbody>\n",
       "    <tr>\n",
       "      <th>0</th>\n",
       "      <td>batata</td>\n",
       "      <td>orégano</td>\n",
       "      <td>lentilha</td>\n",
       "    </tr>\n",
       "    <tr>\n",
       "      <th>1</th>\n",
       "      <td>lentilha</td>\n",
       "      <td>quinoa</td>\n",
       "      <td>NaN</td>\n",
       "    </tr>\n",
       "    <tr>\n",
       "      <th>2</th>\n",
       "      <td>grão de bico</td>\n",
       "      <td>aveia</td>\n",
       "      <td>açafrão</td>\n",
       "    </tr>\n",
       "  </tbody>\n",
       "</table>\n",
       "</div>"
      ],
      "text/plain": [
       "              0        1         2\n",
       "0        batata  orégano  lentilha\n",
       "1      lentilha   quinoa       NaN\n",
       "2  grão de bico    aveia   açafrão"
      ]
     },
     "execution_count": 2,
     "metadata": {},
     "output_type": "execute_result"
    }
   ],
   "source": [
    "df['ingredientes'].apply(pd.Series)"
   ]
  },
  {
   "cell_type": "markdown",
   "metadata": {},
   "source": [
    "<a id=\"passo2\"></a>"
   ]
  },
  {
   "cell_type": "markdown",
   "metadata": {},
   "source": [
    "## Passo 2 \n",
    "### .merge(df, left_index=True, right_index=True)\n",
    "Unimos o DataFrame original com as novas colunas contendo os ingredientes."
   ]
  },
  {
   "cell_type": "code",
   "execution_count": 3,
   "metadata": {
    "scrolled": true
   },
   "outputs": [
    {
     "data": {
      "text/html": [
       "<div>\n",
       "<style scoped>\n",
       "    .dataframe tbody tr th:only-of-type {\n",
       "        vertical-align: middle;\n",
       "    }\n",
       "\n",
       "    .dataframe tbody tr th {\n",
       "        vertical-align: top;\n",
       "    }\n",
       "\n",
       "    .dataframe thead th {\n",
       "        text-align: right;\n",
       "    }\n",
       "</style>\n",
       "<table border=\"1\" class=\"dataframe\">\n",
       "  <thead>\n",
       "    <tr style=\"text-align: right;\">\n",
       "      <th></th>\n",
       "      <th>0</th>\n",
       "      <th>1</th>\n",
       "      <th>2</th>\n",
       "      <th>codigo</th>\n",
       "      <th>receita</th>\n",
       "      <th>ingredientes</th>\n",
       "    </tr>\n",
       "  </thead>\n",
       "  <tbody>\n",
       "    <tr>\n",
       "      <th>0</th>\n",
       "      <td>batata</td>\n",
       "      <td>orégano</td>\n",
       "      <td>lentilha</td>\n",
       "      <td>1</td>\n",
       "      <td>Batata Rosti</td>\n",
       "      <td>[batata, orégano, lentilha]</td>\n",
       "    </tr>\n",
       "    <tr>\n",
       "      <th>1</th>\n",
       "      <td>lentilha</td>\n",
       "      <td>quinoa</td>\n",
       "      <td>NaN</td>\n",
       "      <td>2</td>\n",
       "      <td>Farofa proteica</td>\n",
       "      <td>[lentilha, quinoa]</td>\n",
       "    </tr>\n",
       "    <tr>\n",
       "      <th>2</th>\n",
       "      <td>grão de bico</td>\n",
       "      <td>aveia</td>\n",
       "      <td>açafrão</td>\n",
       "      <td>3</td>\n",
       "      <td>Hambúrguer</td>\n",
       "      <td>[grão de bico, aveia, açafrão]</td>\n",
       "    </tr>\n",
       "  </tbody>\n",
       "</table>\n",
       "</div>"
      ],
      "text/plain": [
       "              0        1         2  codigo          receita  \\\n",
       "0        batata  orégano  lentilha       1     Batata Rosti   \n",
       "1      lentilha   quinoa       NaN       2  Farofa proteica   \n",
       "2  grão de bico    aveia   açafrão       3       Hambúrguer   \n",
       "\n",
       "                     ingredientes  \n",
       "0     [batata, orégano, lentilha]  \n",
       "1              [lentilha, quinoa]  \n",
       "2  [grão de bico, aveia, açafrão]  "
      ]
     },
     "execution_count": 3,
     "metadata": {},
     "output_type": "execute_result"
    }
   ],
   "source": [
    "df['ingredientes'].apply(pd.Series) \\\n",
    "    .merge(df, left_index=True, right_index=True)"
   ]
  },
  {
   "cell_type": "markdown",
   "metadata": {},
   "source": [
    "<a id=\"passo3\"></a>"
   ]
  },
  {
   "cell_type": "markdown",
   "metadata": {},
   "source": [
    "## Passo 3 \n",
    "### .drop(columns='ingredientes')\n",
    "Removemos a coluna que contém todos os ingredientes."
   ]
  },
  {
   "cell_type": "code",
   "execution_count": 4,
   "metadata": {
    "scrolled": true
   },
   "outputs": [
    {
     "data": {
      "text/html": [
       "<div>\n",
       "<style scoped>\n",
       "    .dataframe tbody tr th:only-of-type {\n",
       "        vertical-align: middle;\n",
       "    }\n",
       "\n",
       "    .dataframe tbody tr th {\n",
       "        vertical-align: top;\n",
       "    }\n",
       "\n",
       "    .dataframe thead th {\n",
       "        text-align: right;\n",
       "    }\n",
       "</style>\n",
       "<table border=\"1\" class=\"dataframe\">\n",
       "  <thead>\n",
       "    <tr style=\"text-align: right;\">\n",
       "      <th></th>\n",
       "      <th>0</th>\n",
       "      <th>1</th>\n",
       "      <th>2</th>\n",
       "      <th>codigo</th>\n",
       "      <th>receita</th>\n",
       "    </tr>\n",
       "  </thead>\n",
       "  <tbody>\n",
       "    <tr>\n",
       "      <th>0</th>\n",
       "      <td>batata</td>\n",
       "      <td>orégano</td>\n",
       "      <td>lentilha</td>\n",
       "      <td>1</td>\n",
       "      <td>Batata Rosti</td>\n",
       "    </tr>\n",
       "    <tr>\n",
       "      <th>1</th>\n",
       "      <td>lentilha</td>\n",
       "      <td>quinoa</td>\n",
       "      <td>NaN</td>\n",
       "      <td>2</td>\n",
       "      <td>Farofa proteica</td>\n",
       "    </tr>\n",
       "    <tr>\n",
       "      <th>2</th>\n",
       "      <td>grão de bico</td>\n",
       "      <td>aveia</td>\n",
       "      <td>açafrão</td>\n",
       "      <td>3</td>\n",
       "      <td>Hambúrguer</td>\n",
       "    </tr>\n",
       "  </tbody>\n",
       "</table>\n",
       "</div>"
      ],
      "text/plain": [
       "              0        1         2  codigo          receita\n",
       "0        batata  orégano  lentilha       1     Batata Rosti\n",
       "1      lentilha   quinoa       NaN       2  Farofa proteica\n",
       "2  grão de bico    aveia   açafrão       3       Hambúrguer"
      ]
     },
     "execution_count": 4,
     "metadata": {},
     "output_type": "execute_result"
    }
   ],
   "source": [
    "df['ingredientes'].apply(pd.Series) \\\n",
    "    .merge(df, left_index=True, right_index=True) \\\n",
    "    .drop(columns='ingredientes') "
   ]
  },
  {
   "cell_type": "markdown",
   "metadata": {},
   "source": [
    "<a id=\"passo4\"></a>"
   ]
  },
  {
   "cell_type": "markdown",
   "metadata": {},
   "source": [
    "## Passo 4\n",
    "### .melt(id_vars=['codigo', 'receita'], value_name='ingredientes')\n",
    "Finalmente aplicamos a função melt(). O parâmetro:\n",
    "* __id_vars__: define quais colunas do DataFrame serão repetidas ao longo do DataFrame. \n",
    "* __value_name__: define o nome da nova coluna que conterá cada ingrediente.\n",
    "\n",
    "Observe que esta função também criará a coluna \"variable\"."
   ]
  },
  {
   "cell_type": "code",
   "execution_count": 5,
   "metadata": {
    "scrolled": false
   },
   "outputs": [
    {
     "data": {
      "text/html": [
       "<div>\n",
       "<style scoped>\n",
       "    .dataframe tbody tr th:only-of-type {\n",
       "        vertical-align: middle;\n",
       "    }\n",
       "\n",
       "    .dataframe tbody tr th {\n",
       "        vertical-align: top;\n",
       "    }\n",
       "\n",
       "    .dataframe thead th {\n",
       "        text-align: right;\n",
       "    }\n",
       "</style>\n",
       "<table border=\"1\" class=\"dataframe\">\n",
       "  <thead>\n",
       "    <tr style=\"text-align: right;\">\n",
       "      <th></th>\n",
       "      <th>codigo</th>\n",
       "      <th>receita</th>\n",
       "      <th>variable</th>\n",
       "      <th>ingredientes</th>\n",
       "    </tr>\n",
       "  </thead>\n",
       "  <tbody>\n",
       "    <tr>\n",
       "      <th>0</th>\n",
       "      <td>1</td>\n",
       "      <td>Batata Rosti</td>\n",
       "      <td>0</td>\n",
       "      <td>batata</td>\n",
       "    </tr>\n",
       "    <tr>\n",
       "      <th>1</th>\n",
       "      <td>2</td>\n",
       "      <td>Farofa proteica</td>\n",
       "      <td>0</td>\n",
       "      <td>lentilha</td>\n",
       "    </tr>\n",
       "    <tr>\n",
       "      <th>2</th>\n",
       "      <td>3</td>\n",
       "      <td>Hambúrguer</td>\n",
       "      <td>0</td>\n",
       "      <td>grão de bico</td>\n",
       "    </tr>\n",
       "    <tr>\n",
       "      <th>3</th>\n",
       "      <td>1</td>\n",
       "      <td>Batata Rosti</td>\n",
       "      <td>1</td>\n",
       "      <td>orégano</td>\n",
       "    </tr>\n",
       "    <tr>\n",
       "      <th>4</th>\n",
       "      <td>2</td>\n",
       "      <td>Farofa proteica</td>\n",
       "      <td>1</td>\n",
       "      <td>quinoa</td>\n",
       "    </tr>\n",
       "    <tr>\n",
       "      <th>5</th>\n",
       "      <td>3</td>\n",
       "      <td>Hambúrguer</td>\n",
       "      <td>1</td>\n",
       "      <td>aveia</td>\n",
       "    </tr>\n",
       "    <tr>\n",
       "      <th>6</th>\n",
       "      <td>1</td>\n",
       "      <td>Batata Rosti</td>\n",
       "      <td>2</td>\n",
       "      <td>lentilha</td>\n",
       "    </tr>\n",
       "    <tr>\n",
       "      <th>7</th>\n",
       "      <td>2</td>\n",
       "      <td>Farofa proteica</td>\n",
       "      <td>2</td>\n",
       "      <td>NaN</td>\n",
       "    </tr>\n",
       "    <tr>\n",
       "      <th>8</th>\n",
       "      <td>3</td>\n",
       "      <td>Hambúrguer</td>\n",
       "      <td>2</td>\n",
       "      <td>açafrão</td>\n",
       "    </tr>\n",
       "  </tbody>\n",
       "</table>\n",
       "</div>"
      ],
      "text/plain": [
       "   codigo          receita variable  ingredientes\n",
       "0       1     Batata Rosti        0        batata\n",
       "1       2  Farofa proteica        0      lentilha\n",
       "2       3       Hambúrguer        0  grão de bico\n",
       "3       1     Batata Rosti        1       orégano\n",
       "4       2  Farofa proteica        1        quinoa\n",
       "5       3       Hambúrguer        1         aveia\n",
       "6       1     Batata Rosti        2      lentilha\n",
       "7       2  Farofa proteica        2           NaN\n",
       "8       3       Hambúrguer        2       açafrão"
      ]
     },
     "execution_count": 5,
     "metadata": {},
     "output_type": "execute_result"
    }
   ],
   "source": [
    "df['ingredientes'].apply(pd.Series) \\\n",
    "    .merge(df, left_index=True, right_index=True) \\\n",
    "    .drop(columns='ingredientes') \\\n",
    "    .melt(id_vars=['codigo', 'receita'], value_name='ingredientes')"
   ]
  },
  {
   "cell_type": "markdown",
   "metadata": {},
   "source": [
    "<a id=\"passo5\"></a>"
   ]
  },
  {
   "cell_type": "markdown",
   "metadata": {},
   "source": [
    "## Passo 5\n",
    "### .drop(columns='variable')\n",
    "Removemos a coluna _variable_"
   ]
  },
  {
   "cell_type": "code",
   "execution_count": 6,
   "metadata": {},
   "outputs": [
    {
     "data": {
      "text/html": [
       "<div>\n",
       "<style scoped>\n",
       "    .dataframe tbody tr th:only-of-type {\n",
       "        vertical-align: middle;\n",
       "    }\n",
       "\n",
       "    .dataframe tbody tr th {\n",
       "        vertical-align: top;\n",
       "    }\n",
       "\n",
       "    .dataframe thead th {\n",
       "        text-align: right;\n",
       "    }\n",
       "</style>\n",
       "<table border=\"1\" class=\"dataframe\">\n",
       "  <thead>\n",
       "    <tr style=\"text-align: right;\">\n",
       "      <th></th>\n",
       "      <th>codigo</th>\n",
       "      <th>receita</th>\n",
       "      <th>ingredientes</th>\n",
       "    </tr>\n",
       "  </thead>\n",
       "  <tbody>\n",
       "    <tr>\n",
       "      <th>0</th>\n",
       "      <td>1</td>\n",
       "      <td>Batata Rosti</td>\n",
       "      <td>batata</td>\n",
       "    </tr>\n",
       "    <tr>\n",
       "      <th>1</th>\n",
       "      <td>2</td>\n",
       "      <td>Farofa proteica</td>\n",
       "      <td>lentilha</td>\n",
       "    </tr>\n",
       "    <tr>\n",
       "      <th>2</th>\n",
       "      <td>3</td>\n",
       "      <td>Hambúrguer</td>\n",
       "      <td>grão de bico</td>\n",
       "    </tr>\n",
       "    <tr>\n",
       "      <th>3</th>\n",
       "      <td>1</td>\n",
       "      <td>Batata Rosti</td>\n",
       "      <td>orégano</td>\n",
       "    </tr>\n",
       "    <tr>\n",
       "      <th>4</th>\n",
       "      <td>2</td>\n",
       "      <td>Farofa proteica</td>\n",
       "      <td>quinoa</td>\n",
       "    </tr>\n",
       "    <tr>\n",
       "      <th>5</th>\n",
       "      <td>3</td>\n",
       "      <td>Hambúrguer</td>\n",
       "      <td>aveia</td>\n",
       "    </tr>\n",
       "    <tr>\n",
       "      <th>6</th>\n",
       "      <td>1</td>\n",
       "      <td>Batata Rosti</td>\n",
       "      <td>lentilha</td>\n",
       "    </tr>\n",
       "    <tr>\n",
       "      <th>7</th>\n",
       "      <td>2</td>\n",
       "      <td>Farofa proteica</td>\n",
       "      <td>NaN</td>\n",
       "    </tr>\n",
       "    <tr>\n",
       "      <th>8</th>\n",
       "      <td>3</td>\n",
       "      <td>Hambúrguer</td>\n",
       "      <td>açafrão</td>\n",
       "    </tr>\n",
       "  </tbody>\n",
       "</table>\n",
       "</div>"
      ],
      "text/plain": [
       "   codigo          receita  ingredientes\n",
       "0       1     Batata Rosti        batata\n",
       "1       2  Farofa proteica      lentilha\n",
       "2       3       Hambúrguer  grão de bico\n",
       "3       1     Batata Rosti       orégano\n",
       "4       2  Farofa proteica        quinoa\n",
       "5       3       Hambúrguer         aveia\n",
       "6       1     Batata Rosti      lentilha\n",
       "7       2  Farofa proteica           NaN\n",
       "8       3       Hambúrguer       açafrão"
      ]
     },
     "execution_count": 6,
     "metadata": {},
     "output_type": "execute_result"
    }
   ],
   "source": [
    "df['ingredientes'].apply(pd.Series) \\\n",
    "    .merge(df, left_index=True, right_index=True) \\\n",
    "    .drop(columns='ingredientes') \\\n",
    "    .melt(id_vars=['codigo', 'receita'], value_name='ingredientes') \\\n",
    "    .drop(columns='variable')"
   ]
  },
  {
   "cell_type": "markdown",
   "metadata": {},
   "source": [
    "<a id=\"passo6\"></a>"
   ]
  },
  {
   "cell_type": "markdown",
   "metadata": {},
   "source": [
    "## Passo 6\n",
    "### .dropna()\n",
    "Observe também que existem receitas com 2 ingredientes e outras com 3 ingredientes. <br>\n",
    "Portanto há linhas com o valor NaN. <br>\n",
    "Para removê-las, basta utilizar a função .dropna()"
   ]
  },
  {
   "cell_type": "code",
   "execution_count": 7,
   "metadata": {},
   "outputs": [
    {
     "data": {
      "text/html": [
       "<div>\n",
       "<style scoped>\n",
       "    .dataframe tbody tr th:only-of-type {\n",
       "        vertical-align: middle;\n",
       "    }\n",
       "\n",
       "    .dataframe tbody tr th {\n",
       "        vertical-align: top;\n",
       "    }\n",
       "\n",
       "    .dataframe thead th {\n",
       "        text-align: right;\n",
       "    }\n",
       "</style>\n",
       "<table border=\"1\" class=\"dataframe\">\n",
       "  <thead>\n",
       "    <tr style=\"text-align: right;\">\n",
       "      <th></th>\n",
       "      <th>codigo</th>\n",
       "      <th>receita</th>\n",
       "      <th>ingredientes</th>\n",
       "    </tr>\n",
       "  </thead>\n",
       "  <tbody>\n",
       "    <tr>\n",
       "      <th>0</th>\n",
       "      <td>1</td>\n",
       "      <td>Batata Rosti</td>\n",
       "      <td>batata</td>\n",
       "    </tr>\n",
       "    <tr>\n",
       "      <th>1</th>\n",
       "      <td>2</td>\n",
       "      <td>Farofa proteica</td>\n",
       "      <td>lentilha</td>\n",
       "    </tr>\n",
       "    <tr>\n",
       "      <th>2</th>\n",
       "      <td>3</td>\n",
       "      <td>Hambúrguer</td>\n",
       "      <td>grão de bico</td>\n",
       "    </tr>\n",
       "    <tr>\n",
       "      <th>3</th>\n",
       "      <td>1</td>\n",
       "      <td>Batata Rosti</td>\n",
       "      <td>orégano</td>\n",
       "    </tr>\n",
       "    <tr>\n",
       "      <th>4</th>\n",
       "      <td>2</td>\n",
       "      <td>Farofa proteica</td>\n",
       "      <td>quinoa</td>\n",
       "    </tr>\n",
       "    <tr>\n",
       "      <th>5</th>\n",
       "      <td>3</td>\n",
       "      <td>Hambúrguer</td>\n",
       "      <td>aveia</td>\n",
       "    </tr>\n",
       "    <tr>\n",
       "      <th>6</th>\n",
       "      <td>1</td>\n",
       "      <td>Batata Rosti</td>\n",
       "      <td>lentilha</td>\n",
       "    </tr>\n",
       "    <tr>\n",
       "      <th>8</th>\n",
       "      <td>3</td>\n",
       "      <td>Hambúrguer</td>\n",
       "      <td>açafrão</td>\n",
       "    </tr>\n",
       "  </tbody>\n",
       "</table>\n",
       "</div>"
      ],
      "text/plain": [
       "   codigo          receita  ingredientes\n",
       "0       1     Batata Rosti        batata\n",
       "1       2  Farofa proteica      lentilha\n",
       "2       3       Hambúrguer  grão de bico\n",
       "3       1     Batata Rosti       orégano\n",
       "4       2  Farofa proteica        quinoa\n",
       "5       3       Hambúrguer         aveia\n",
       "6       1     Batata Rosti      lentilha\n",
       "8       3       Hambúrguer       açafrão"
      ]
     },
     "execution_count": 7,
     "metadata": {},
     "output_type": "execute_result"
    }
   ],
   "source": [
    "df['ingredientes'].apply(pd.Series) \\\n",
    "    .merge(df, left_index=True, right_index=True) \\\n",
    "    .drop(columns='ingredientes') \\\n",
    "    .melt(id_vars=['codigo', 'receita'], value_name='ingredientes') \\\n",
    "    .drop(columns='variable') \\\n",
    "    .dropna()"
   ]
  },
  {
   "cell_type": "markdown",
   "metadata": {},
   "source": [
    "<a id=\"passo7\"></a>"
   ]
  },
  {
   "cell_type": "markdown",
   "metadata": {},
   "source": [
    "## Passo 7\n",
    "### .sort_values(by='codigo')\n",
    "E por fim, vamos ordernar o resultado pelo código para facilitar a nossa visualização!"
   ]
  },
  {
   "cell_type": "code",
   "execution_count": 8,
   "metadata": {},
   "outputs": [
    {
     "data": {
      "text/html": [
       "<div>\n",
       "<style scoped>\n",
       "    .dataframe tbody tr th:only-of-type {\n",
       "        vertical-align: middle;\n",
       "    }\n",
       "\n",
       "    .dataframe tbody tr th {\n",
       "        vertical-align: top;\n",
       "    }\n",
       "\n",
       "    .dataframe thead th {\n",
       "        text-align: right;\n",
       "    }\n",
       "</style>\n",
       "<table border=\"1\" class=\"dataframe\">\n",
       "  <thead>\n",
       "    <tr style=\"text-align: right;\">\n",
       "      <th></th>\n",
       "      <th>codigo</th>\n",
       "      <th>receita</th>\n",
       "      <th>ingredientes</th>\n",
       "    </tr>\n",
       "  </thead>\n",
       "  <tbody>\n",
       "    <tr>\n",
       "      <th>0</th>\n",
       "      <td>1</td>\n",
       "      <td>Batata Rosti</td>\n",
       "      <td>batata</td>\n",
       "    </tr>\n",
       "    <tr>\n",
       "      <th>3</th>\n",
       "      <td>1</td>\n",
       "      <td>Batata Rosti</td>\n",
       "      <td>orégano</td>\n",
       "    </tr>\n",
       "    <tr>\n",
       "      <th>6</th>\n",
       "      <td>1</td>\n",
       "      <td>Batata Rosti</td>\n",
       "      <td>lentilha</td>\n",
       "    </tr>\n",
       "    <tr>\n",
       "      <th>1</th>\n",
       "      <td>2</td>\n",
       "      <td>Farofa proteica</td>\n",
       "      <td>lentilha</td>\n",
       "    </tr>\n",
       "    <tr>\n",
       "      <th>4</th>\n",
       "      <td>2</td>\n",
       "      <td>Farofa proteica</td>\n",
       "      <td>quinoa</td>\n",
       "    </tr>\n",
       "    <tr>\n",
       "      <th>2</th>\n",
       "      <td>3</td>\n",
       "      <td>Hambúrguer</td>\n",
       "      <td>grão de bico</td>\n",
       "    </tr>\n",
       "    <tr>\n",
       "      <th>5</th>\n",
       "      <td>3</td>\n",
       "      <td>Hambúrguer</td>\n",
       "      <td>aveia</td>\n",
       "    </tr>\n",
       "    <tr>\n",
       "      <th>8</th>\n",
       "      <td>3</td>\n",
       "      <td>Hambúrguer</td>\n",
       "      <td>açafrão</td>\n",
       "    </tr>\n",
       "  </tbody>\n",
       "</table>\n",
       "</div>"
      ],
      "text/plain": [
       "   codigo          receita  ingredientes\n",
       "0       1     Batata Rosti        batata\n",
       "3       1     Batata Rosti       orégano\n",
       "6       1     Batata Rosti      lentilha\n",
       "1       2  Farofa proteica      lentilha\n",
       "4       2  Farofa proteica        quinoa\n",
       "2       3       Hambúrguer  grão de bico\n",
       "5       3       Hambúrguer         aveia\n",
       "8       3       Hambúrguer       açafrão"
      ]
     },
     "execution_count": 8,
     "metadata": {},
     "output_type": "execute_result"
    }
   ],
   "source": [
    "df['ingredientes'].apply(pd.Series) \\\n",
    "    .merge(df, left_index=True, right_index=True) \\\n",
    "    .drop(columns='ingredientes') \\\n",
    "    .melt(id_vars=['codigo', 'receita'], value_name='ingredientes') \\\n",
    "    .drop(columns='variable') \\\n",
    "    .dropna() \\\n",
    "    .sort_values(by='codigo')"
   ]
  },
  {
   "cell_type": "code",
   "execution_count": null,
   "metadata": {},
   "outputs": [],
   "source": []
  }
 ],
 "metadata": {
  "kernelspec": {
   "display_name": "Python 3",
   "language": "python",
   "name": "python3"
  },
  "language_info": {
   "codemirror_mode": {
    "name": "ipython",
    "version": 3
   },
   "file_extension": ".py",
   "mimetype": "text/x-python",
   "name": "python",
   "nbconvert_exporter": "python",
   "pygments_lexer": "ipython3",
   "version": "3.7.0"
  }
 },
 "nbformat": 4,
 "nbformat_minor": 2
}
